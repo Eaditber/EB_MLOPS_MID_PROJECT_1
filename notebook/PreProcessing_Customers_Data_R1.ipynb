{
  "cells": [
    {
      "cell_type": "markdown",
      "metadata": {
        "id": "t-pZQJvOu57N"
      },
      "source": [
        "Data preparation"
      ]
    },
    {
      "cell_type": "code",
      "execution_count": 2,
      "metadata": {
        "id": "KaCSkNcdy8oz"
      },
      "outputs": [],
      "source": [
        "import pandas as pd\n",
        "import numpy as np\n",
        "import pickle\n",
        "from sklearn.ensemble import RandomForestClassifier\n",
        "# Plotting the gender distribution\n",
        "import matplotlib.pyplot as plt\n",
        "import seaborn as sns\n"
      ]
    },
    {
      "cell_type": "code",
      "execution_count": 3,
      "metadata": {
        "id": "nAsYlUnYpXI8"
      },
      "outputs": [],
      "source": [
        "dataset = pd.read_csv(r\"C:\\Users\\eaditb\\Documents\\EB_MLOPS_MID_PROJECT_1\\artifacts\\raw\\customers_data.csv\")\n"
      ]
    },
    {
      "cell_type": "code",
      "execution_count": 4,
      "metadata": {
        "colab": {
          "base_uri": "https://localhost:8080/"
        },
        "id": "tVKU8G_gmCzM",
        "outputId": "73c16d9e-8e9a-4a1a-81a3-3e836095fdac"
      },
      "outputs": [
        {
          "data": {
            "text/plain": [
              "Index(['customerID', 'gender', 'SeniorCitizen', 'Partner', 'Dependents',\n",
              "       'tenure', 'PhoneService', 'MultipleLines', 'InternetService',\n",
              "       'OnlineSecurity', 'OnlineBackup', 'DeviceProtection', 'TechSupport',\n",
              "       'StreamingTV', 'StreamingMovies', 'Contract', 'PaperlessBilling',\n",
              "       'PaymentMethod', 'MonthlyCharges', 'TotalCharges', 'Churn'],\n",
              "      dtype='object')"
            ]
          },
          "execution_count": 4,
          "metadata": {},
          "output_type": "execute_result"
        }
      ],
      "source": [
        "dataset.columns"
      ]
    },
    {
      "cell_type": "markdown",
      "metadata": {
        "id": "M_PtN4dKgQxq"
      },
      "source": [
        "# PreProcessing"
      ]
    },
    {
      "cell_type": "code",
      "execution_count": 34,
      "metadata": {
        "colab": {
          "base_uri": "https://localhost:8080/",
          "height": 1000
        },
        "id": "kBV9f6C1jAjA",
        "outputId": "e4941a37-51d0-49fe-f80f-1db7fc5fb6f9"
      },
      "outputs": [],
      "source": [
        "# 'TotalCharges' is initially an object type due to some non-numeric values (like ' ').\n",
        "# Convert 'TotalCharges' to numeric, coercing errors to NaN, then drop rows with NaN.\n",
        "dataset['TotalCharges'] = pd.to_numeric(dataset['TotalCharges'], errors='coerce')\n",
        "dataset.dropna(subset=['TotalCharges'], inplace=True)\n",
        "\n"
      ]
    },
    {
      "cell_type": "code",
      "execution_count": 5,
      "metadata": {
        "id": "8y6oiOjtgXyO"
      },
      "outputs": [],
      "source": [
        "# Nulls:\n",
        "dataset['TotalCharges'] = dataset['TotalCharges'].fillna(2279) # 2279 mean value in data\n",
        "dataset['TotalCharges'] = dataset['TotalCharges'].astype(str)\n",
        "dataset['TotalCharges'] = dataset['TotalCharges'].str.replace(' ','2279') # remove space string in data\n",
        "dataset['TotalCharges'] = dataset['TotalCharges'].astype(float)\n",
        "dataset['PhoneService'].fillna('No')\n",
        "dataset['tenure'] = dataset['tenure'].fillna(dataset['tenure'].mean())"
      ]
    },
    {
      "cell_type": "code",
      "execution_count": 6,
      "metadata": {
        "id": "6AY7ICx-gX19"
      },
      "outputs": [],
      "source": [
        "# Contract is a importnent feature in the model and cant be null, in case of null the model will not predict and need to sand alert.\n",
        "dataset['Contract'] = dataset['Contract'].dropna()"
      ]
    },
    {
      "cell_type": "code",
      "execution_count": 7,
      "metadata": {
        "id": "j5lYE2-ggBaC"
      },
      "outputs": [],
      "source": [
        "# Feature handeling:\n",
        "dataset['PhoneService'] = dataset['PhoneService'].map({'Yes':1,'No':0})\n",
        "\n",
        "dataset = dataset.join(pd.get_dummies(dataset['Contract']).astype(int))"
      ]
    },
    {
      "cell_type": "code",
      "execution_count": 8,
      "metadata": {
        "id": "6J0RMl-VzRS4"
      },
      "outputs": [],
      "source": [
        "prdict_columns = ['TotalCharges','Month-to-month','One year','Two year','PhoneService','tenure']"
      ]
    },
    {
      "cell_type": "code",
      "execution_count": 9,
      "metadata": {},
      "outputs": [
        {
          "name": "stdout",
          "output_type": "stream",
          "text": [
            "Index(['customerID', 'gender', 'SeniorCitizen', 'Partner', 'Dependents',\n",
            "       'tenure', 'PhoneService', 'MultipleLines', 'InternetService',\n",
            "       'OnlineSecurity', 'OnlineBackup', 'DeviceProtection', 'TechSupport',\n",
            "       'StreamingTV', 'StreamingMovies', 'Contract', 'PaperlessBilling',\n",
            "       'PaymentMethod', 'MonthlyCharges', 'TotalCharges', 'Churn',\n",
            "       'Month-to-month', 'One year', 'Two year'],\n",
            "      dtype='object')\n"
          ]
        }
      ],
      "source": [
        "print(dataset.columns)\n"
      ]
    },
    {
      "cell_type": "markdown",
      "metadata": {
        "id": "_3cc36RmmMSt"
      },
      "source": [
        "# Train"
      ]
    },
    {
      "cell_type": "code",
      "execution_count": 10,
      "metadata": {
        "colab": {
          "base_uri": "https://localhost:8080/",
          "height": 747
        },
        "id": "UiFgcDbNx0IM",
        "outputId": "c060df5f-5a29-4b86-e23c-cf40626e981e"
      },
      "outputs": [
        {
          "name": "stdout",
          "output_type": "stream",
          "text": [
            "Random Forest Classifier Evaluation:\n",
            "Accuracy: 0.751596877217885\n",
            "\n",
            "Confusion Matrix:\n",
            " [[873 154]\n",
            " [196 186]]\n",
            "\n",
            "Classification Report:\n",
            "               precision    recall  f1-score   support\n",
            "\n",
            "           0       0.82      0.85      0.83      1027\n",
            "           1       0.55      0.49      0.52       382\n",
            "\n",
            "    accuracy                           0.75      1409\n",
            "   macro avg       0.68      0.67      0.67      1409\n",
            "weighted avg       0.74      0.75      0.75      1409\n",
            "\n"
          ]
        },
        {
          "data": {
            "image/png": "[encoded data removed]",
            "text/plain": [
              "<Figure size 640x480 with 1 Axes>"
            ]
          },
          "metadata": {},
          "output_type": "display_data"
        }
      ],
      "source": [
        "from sklearn.model_selection import train_test_split\n",
        "from sklearn.metrics import classification_report, confusion_matrix, accuracy_score\n",
        "\n",
        "# Prepare the data for training\n",
        "X = dataset[prdict_columns]\n",
        "y = dataset['Churn'].map({'Yes': 1, 'No': 0}) # Convert target variable to numerical\n",
        "\n",
        "# Split the data into training and testing sets\n",
        "X_train, X_test, y_train, y_test = train_test_split(X, y, test_size=0.2, random_state=42)\n",
        "\n",
        "# Initialize and train the RandomForestClassifier\n",
        "model = RandomForestClassifier(n_estimators=100, random_state=42) # You can adjust n_estimators\n",
        "model.fit(X_train, y_train)\n",
        "\n",
        "# Make predictions on the test set\n",
        "y_pred = model.predict(X_test)\n",
        "\n",
        "# Evaluate the model\n",
        "print(\"Random Forest Classifier Evaluation:\")\n",
        "print(\"Accuracy:\", accuracy_score(y_test, y_pred))\n",
        "print(\"\\nConfusion Matrix:\\n\", confusion_matrix(y_test, y_pred))\n",
        "print(\"\\nClassification Report:\\n\", classification_report(y_test, y_pred))\n",
        "\n",
        "# Feature Importance (optional, but good for understanding the model)\n",
        "feature_importances = pd.Series(model.feature_importances_, index=X.columns)\n",
        "feature_importances.nlargest(10).plot(kind='barh')\n",
        "plt.title('Feature Importances')\n",
        "plt.show()"
      ]
    },
    {
      "cell_type": "code",
      "execution_count": 11,
      "metadata": {
        "colab": {
          "base_uri": "https://localhost:8080/"
        },
        "id": "tiUdmMpKmDCe",
        "outputId": "e46696a2-090b-45c2-a462-2703b7930401"
      },
      "outputs": [
        {
          "name": "stdout",
          "output_type": "stream",
          "text": [
            "Model saved as churn_model.pickle\n"
          ]
        }
      ],
      "source": [
        "# Save the trained model using pickle\n",
        "with open('churn_model.pickle', 'wb') as f:\n",
        "  pickle.dump(model, f)\n",
        "\n",
        "print(\"Model saved as churn_model.pickle\")"
      ]
    },
    {
      "cell_type": "markdown",
      "metadata": {
        "id": "9VWFlF2ZmI6X"
      },
      "source": [
        "Check load model"
      ]
    },
    {
      "cell_type": "code",
      "execution_count": 12,
      "metadata": {
        "id": "VWBgWAnwvFlC"
      },
      "outputs": [],
      "source": [
        "with open('churn_model.pickle', 'rb') as f:\n",
        "    rf_model = pickle.load(f)"
      ]
    },
    {
      "cell_type": "code",
      "execution_count": 13,
      "metadata": {
        "colab": {
          "base_uri": "https://localhost:8080/"
        },
        "id": "h7rwM8v6mN_3",
        "outputId": "eb1f6f1c-ce6a-4c4e-c076-5b42534a09fa"
      },
      "outputs": [
        {
          "data": {
            "text/plain": [
              "array([0, 0, 1, ..., 0, 1, 0], shape=(7043,))"
            ]
          },
          "execution_count": 13,
          "metadata": {},
          "output_type": "execute_result"
        }
      ],
      "source": [
        "rf_model.predict(dataset[prdict_columns])"
      ]
    },
    {
      "cell_type": "code",
      "execution_count": null,
      "metadata": {
        "id": "gzQbSvKHmSpP"
      },
      "outputs": [],
      "source": []
    }
  ],
  "metadata": {
    "colab": {
      "provenance": []
    },
    "kernelspec": {
      "display_name": "venv",
      "language": "python",
      "name": "python3"
    },
    "language_info": {
      "codemirror_mode": {
        "name": "ipython",
        "version": 3
      },
      "file_extension": ".py",
      "mimetype": "text/x-python",
      "name": "python",
      "nbconvert_exporter": "python",
      "pygments_lexer": "ipython3",
      "version": "3.13.2"
    }
  },
  "nbformat": 4,
  "nbformat_minor": 0
}
